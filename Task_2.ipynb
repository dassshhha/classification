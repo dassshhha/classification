{
 "cells": [
  {
   "cell_type": "code",
   "execution_count": 1,
   "metadata": {},
   "outputs": [],
   "source": [
    "import numpy as np\n",
    "import scipy as sp\n",
    "import matplotlib.pyplot as plt\n",
    "import seaborn as sns\n",
    "\n",
    "%matplotlib inline"
   ]
  },
  {
   "cell_type": "markdown",
   "metadata": {},
   "source": [
    "# 1. Работа с массивами NumPy"
   ]
  },
  {
   "cell_type": "markdown",
   "metadata": {},
   "source": [
    "**N. Все упражнения ниже нужно делать без использования циклов Python**\n",
    "\n",
    "**1.** Cоздать вектор\n",
    "\n",
    "$$(2, \\frac{2^2}{2}, \\ldots, \\frac{2^{20}}{20})$$\n",
    "\n",
    "Можно использовать функции [np.arange()](http://docs.scipy.org/doc/numpy/reference/generated/numpy.arange.html), [np.ones()](http://docs.scipy.org/doc/numpy/reference/generated/numpy.ones.html)"
   ]
  },
  {
   "cell_type": "code",
   "execution_count": 2,
   "metadata": {},
   "outputs": [
    {
     "data": {
      "text/plain": [
       "array([2.00000000e+00, 2.00000000e+00, 2.66666667e+00, 4.00000000e+00,\n",
       "       6.40000000e+00, 1.06666667e+01, 1.82857143e+01, 3.20000000e+01,\n",
       "       5.68888889e+01, 1.02400000e+02, 1.86181818e+02, 3.41333333e+02,\n",
       "       6.30153846e+02, 1.17028571e+03, 2.18453333e+03, 4.09600000e+03,\n",
       "       7.71011765e+03, 1.45635556e+04, 2.75941053e+04, 5.24288000e+04])"
      ]
     },
     "execution_count": 2,
     "metadata": {},
     "output_type": "execute_result"
    }
   ],
   "source": [
    "a = np.arange(1, 21)\n",
    "result = 2**a / a\n",
    "result"
   ]
  },
  {
   "cell_type": "markdown",
   "metadata": {},
   "source": [
    "**2.** Посчитать:\n",
    "\n",
    "$$\\sum\\limits_{i=0}^{5}{0.1^{3i}0.2^{4i}}$$\n"
   ]
  },
  {
   "cell_type": "code",
   "execution_count": 3,
   "metadata": {},
   "outputs": [
    {
     "data": {
      "text/plain": [
       "1.00000160000256"
      ]
     },
     "execution_count": 3,
     "metadata": {},
     "output_type": "execute_result"
    }
   ],
   "source": [
    "a = np.arange(6)\n",
    "array1 = np.power(0.1, 3 * a) \n",
    "array2= np.power(0.2, 4 * a)\n",
    "result = np.dot(array1, array2)\n",
    "result"
   ]
  },
  {
   "cell_type": "markdown",
   "metadata": {},
   "source": [
    "**3.** Создать нулевую матрицe $8 \\times 8$, и заполнить её единицами в шахматном порядке."
   ]
  },
  {
   "cell_type": "code",
   "execution_count": 4,
   "metadata": {},
   "outputs": [
    {
     "data": {
      "text/plain": [
       "array([[0, 1, 0, 1, 0, 1, 0, 1],\n",
       "       [1, 0, 1, 0, 1, 0, 1, 0],\n",
       "       [0, 1, 0, 1, 0, 1, 0, 1],\n",
       "       [1, 0, 1, 0, 1, 0, 1, 0],\n",
       "       [0, 1, 0, 1, 0, 1, 0, 1],\n",
       "       [1, 0, 1, 0, 1, 0, 1, 0],\n",
       "       [0, 1, 0, 1, 0, 1, 0, 1],\n",
       "       [1, 0, 1, 0, 1, 0, 1, 0]])"
      ]
     },
     "execution_count": 4,
     "metadata": {},
     "output_type": "execute_result"
    }
   ],
   "source": [
    "z = np.zeros((8, 8), dtype=int)\n",
    "z[1::2, ::2] = 1\n",
    "z[::2, 1::2] = 1\n",
    "z"
   ]
  },
  {
   "cell_type": "markdown",
   "metadata": {},
   "source": [
    "**4.** Есть 5 точек в декартовой системе координат (в виде матрицы $X$ размерностью $5 \\times 2$), сконвертируйте эти точки в полярную систему координат."
   ]
  },
  {
   "cell_type": "code",
   "execution_count": 5,
   "metadata": {},
   "outputs": [
    {
     "name": "stdout",
     "output_type": "stream",
     "text": [
      "Cartesian\n",
      " [[0.95184825 0.93192987]\n",
      " [0.61694268 0.6714371 ]\n",
      " [0.81591625 0.33370753]\n",
      " [0.93101323 0.42914057]\n",
      " [0.52959766 0.03028486]]\n",
      "Polar\n",
      " [[1.33210674 0.61045141]\n",
      " [0.91183664 0.63471212]\n",
      " [0.88152144 0.36188689]\n",
      " [1.02515719 0.39644544]\n",
      " [0.53046287 0.05702948]]\n"
     ]
    }
   ],
   "source": [
    "X = np.random.random((5, 2))\n",
    "print('Cartesian\\n', X)\n",
    "X[:, 0] = np.sqrt(np.power(X[:, 0], 2) + np.power(X[:, 1], 2))\n",
    "X[:, 1] = np.arctan2(X[:, 1], X[:, 0])\n",
    "print('Polar\\n', X)"
   ]
  },
  {
   "cell_type": "markdown",
   "metadata": {},
   "source": [
    "**5.** Найдите индексы максимального элемента в случайной матрице $10 \\times 10$.\n",
    "\n",
    "Cм. [np.argmax()](http://docs.scipy.org/doc/numpy/reference/generated/numpy.argmax.html)."
   ]
  },
  {
   "cell_type": "code",
   "execution_count": 6,
   "metadata": {},
   "outputs": [
    {
     "name": "stdout",
     "output_type": "stream",
     "text": [
      "[[0.84028623 0.32284866 0.67404839 0.62509916 0.77628146 0.66046466\n",
      "  0.90558423 0.84966537 0.69635525 0.74271554]\n",
      " [0.024951   0.02280258 0.66715453 0.55464652 0.78871621 0.94859241\n",
      "  0.9981593  0.12830717 0.1676205  0.04172187]\n",
      " [0.93727445 0.46356678 0.24000656 0.62713589 0.77814125 0.91580072\n",
      "  0.92137101 0.89699667 0.09696749 0.05865248]\n",
      " [0.83263705 0.12378737 0.10115491 0.33571362 0.6474436  0.7451206\n",
      "  0.1798506  0.34169907 0.01371466 0.64361485]\n",
      " [0.70342585 0.8330002  0.46399924 0.34082237 0.57872779 0.9494897\n",
      "  0.44315265 0.27923072 0.98267348 0.01257798]\n",
      " [0.01059512 0.25023911 0.7267694  0.27786442 0.07134297 0.10574634\n",
      "  0.80434574 0.8115556  0.2296165  0.49752638]\n",
      " [0.87881946 0.47822701 0.24335541 0.11428651 0.1805999  0.61283346\n",
      "  0.96584832 0.37722088 0.37499028 0.02230779]\n",
      " [0.11010923 0.87256744 0.20732499 0.71140081 0.46876891 0.31899128\n",
      "  0.70177823 0.5748358  0.35396509 0.61622905]\n",
      " [0.34297776 0.30084974 0.32324626 0.29896092 0.62107324 0.20862114\n",
      "  0.25901275 0.84558545 0.26383137 0.95263429]\n",
      " [0.64469515 0.35902279 0.8814057  0.67830448 0.8650429  0.98803136\n",
      "  0.87996106 0.64991112 0.22024998 0.87941504]]\n",
      "\n",
      "value:  0.9981592985286474 \n",
      "indices:  (1, 6)\n"
     ]
    }
   ],
   "source": [
    "X = np.random.random((10, 10))\n",
    "print(X)\n",
    "ind = np.argmax(X)\n",
    "print('\\nvalue: ', X.flat[ind], '\\nindices: ', (ind // 10, ind % 10))"
   ]
  },
  {
   "cell_type": "markdown",
   "metadata": {},
   "source": [
    "**6.** Есть 10 точек ($X$) и ещё одна ($y$). Найти в $X$ ближайшую к $y$ точку."
   ]
  },
  {
   "cell_type": "code",
   "execution_count": 7,
   "metadata": {},
   "outputs": [
    {
     "name": "stdout",
     "output_type": "stream",
     "text": [
      "X:\n",
      " [[0.46790834 0.34903241]\n",
      " [0.40937686 0.33612754]\n",
      " [0.92087046 0.71070616]\n",
      " [0.543468   0.08068141]\n",
      " [0.76962272 0.64837641]\n",
      " [0.38722277 0.63259064]\n",
      " [0.36774091 0.27076538]\n",
      " [0.03901929 0.69076766]\n",
      " [0.80693335 0.54120791]\n",
      " [0.84664074 0.29912393]]\n",
      "\n",
      "y:\n",
      " [[0.71834448 0.0754501 ]]\n",
      "\n",
      "distances:\n",
      " [0.37089829 0.40424463 0.6667586  0.17495471 0.57521649 0.64811046\n",
      " 0.40133642 0.91656883 0.47410792 0.25785638]\n",
      "\n",
      " nearest point:\n",
      " [0.543468   0.08068141]\n"
     ]
    }
   ],
   "source": [
    "X = np.random.random((10, 2))\n",
    "print('X:\\n', X)\n",
    "y = np.random.random((1, 2))\n",
    "print('\\ny:\\n', y)\n",
    "dist = np.sqrt(\n",
    "    np.power((X[:, 0] - y[0, 0]), 2) + np.power((X[:, 1] - y[0, 1]), 2))\n",
    "print('\\ndistances:\\n', dist)\n",
    "print('\\n nearest point:\\n', X[np.argmin(dist)])"
   ]
  },
  {
   "cell_type": "markdown",
   "metadata": {},
   "source": [
    "**7.** Дана функция:\n",
    "\n",
    "$$\n",
    " \\begin{cases}\n",
    "    x^2 + 2x + 6, & x < 0  \\\\\n",
    "    x + 6, & 0 \\le x \\le 2 \\\\\n",
    "    x^2 + 4x - 4, & x \\ge 2\n",
    " \\end{cases}\n",
    "$$\n",
    "\n",
    "Постройте массив из её значений на  $-3 \\le x \\le 3$."
   ]
  },
  {
   "cell_type": "code",
   "execution_count": 8,
   "metadata": {},
   "outputs": [
    {
     "data": {
      "text/plain": [
       "array([ 9.        ,  8.76124885,  8.52984389,  8.30578512,  8.08907254,\n",
       "        7.87970615,  7.67768595,  7.48301194,  7.29568411,  7.11570248,\n",
       "        6.94306703,  6.77777778,  6.61983471,  6.46923783,  6.32598714,\n",
       "        6.19008264,  6.06152433,  5.94031221,  5.82644628,  5.71992654,\n",
       "        5.62075298,  5.52892562,  5.44444444,  5.36730946,  5.29752066,\n",
       "        5.23507805,  5.17998163,  5.1322314 ,  5.09182736,  5.05876951,\n",
       "        5.03305785,  5.01469238,  5.00367309,  5.        ,  5.00367309,\n",
       "        5.01469238,  5.03305785,  5.05876951,  5.09182736,  5.1322314 ,\n",
       "        5.17998163,  5.23507805,  5.29752066,  5.36730946,  5.44444444,\n",
       "        5.52892562,  5.62075298,  5.71992654,  5.82644628,  5.94031221,\n",
       "        6.03030303,  6.09090909,  6.15151515,  6.21212121,  6.27272727,\n",
       "        6.33333333,  6.39393939,  6.45454545,  6.51515152,  6.57575758,\n",
       "        6.63636364,  6.6969697 ,  6.75757576,  6.81818182,  6.87878788,\n",
       "        6.93939394,  7.        ,  7.06060606,  7.12121212,  7.18181818,\n",
       "        7.24242424,  7.3030303 ,  7.36363636,  7.42424242,  7.48484848,\n",
       "        7.54545455,  7.60606061,  7.66666667,  7.72727273,  7.78787879,\n",
       "        7.84848485,  7.90909091,  7.96969697,  8.24334252,  8.73553719,\n",
       "        9.23507805,  9.74196511, 10.25619835, 10.77777778, 11.3067034 ,\n",
       "       11.84297521, 12.3865932 , 12.93755739, 13.49586777, 14.06152433,\n",
       "       14.63452709, 15.21487603, 15.80257117, 16.39761249, 17.        ])"
      ]
     },
     "execution_count": 8,
     "metadata": {},
     "output_type": "execute_result"
    }
   ],
   "source": [
    "def func(x):\n",
    "    if x<0:\n",
    "        return x**2 + 2 * x + 6\n",
    "    elif x>=2:\n",
    "        return x**2 + 4 * x - 4\n",
    "    else:\n",
    "        return x+6\n",
    "\n",
    "x = np.linspace(-3, 3, 100)\n",
    "f = np.vectorize(func)\n",
    "f(x)"
   ]
  },
  {
   "cell_type": "markdown",
   "metadata": {},
   "source": [
    "**8.** Из каждого элемента матрицы вычесть среднее арифметическое от всех элементов в соответствующей строке (после чего среднее значение каждой строки должно равняться нулю).\n",
    "\n",
    "Cм. [np.mean()](http://docs.scipy.org/doc/numpy/reference/generated/numpy.mean.html)."
   ]
  },
  {
   "cell_type": "code",
   "execution_count": 9,
   "metadata": {},
   "outputs": [
    {
     "name": "stdout",
     "output_type": "stream",
     "text": [
      "Check result:\n",
      " [-2.22044605e-17  2.22044605e-17 -1.11022302e-17  1.44328993e-16\n",
      "  0.00000000e+00  3.33066907e-17  8.88178420e-17  2.22044605e-17\n",
      "  1.05471187e-16  7.77156117e-17]\n"
     ]
    }
   ],
   "source": [
    "X = np.random.random((10, 10))\n",
    "X = X - X.mean(axis=0)\n",
    "print('Check result:\\n', X.mean(axis=0))"
   ]
  },
  {
   "cell_type": "markdown",
   "metadata": {},
   "source": [
    "**9.** Есть массив из 1000 чисел, полученных из генератора случайных чисел, имеющий нормальное распределение. Посчитайте выборочное среднее и выборочную дисперсию. "
   ]
  },
  {
   "cell_type": "code",
   "execution_count": 10,
   "metadata": {},
   "outputs": [
    {
     "name": "stdout",
     "output_type": "stream",
     "text": [
      "expected value:  5.061069579505634 \n",
      "dispersion:  4.16030881112819\n"
     ]
    }
   ],
   "source": [
    "X = np.random.normal(loc=5, scale=2., size=1000)\n",
    "print('expected value: ', np.mean(X), '\\ndispersion: ', np.nanvar(X))"
   ]
  },
  {
   "cell_type": "markdown",
   "metadata": {},
   "source": [
    "**10.** Создать матрицу:\n",
    "\n",
    "$$\n",
    "\\begin{pmatrix}\n",
    "0 & 1 & 2 & 3 & 4 \\\\\n",
    "1 & 2 & 3 & 4 & 0 \\\\\n",
    "2 & 3 & 4 & 0 & 1 \\\\\n",
    "3 & 4 & 0 & 1 & 2 \\\\\n",
    "4 & 0 & 1 & 2 & 3\n",
    "\\end{pmatrix}\n",
    "$$"
   ]
  },
  {
   "cell_type": "code",
   "execution_count": 11,
   "metadata": {},
   "outputs": [
    {
     "data": {
      "text/plain": [
       "array([[0, 1, 2, 3, 4],\n",
       "       [1, 2, 3, 4, 0],\n",
       "       [2, 3, 4, 0, 1],\n",
       "       [3, 4, 0, 1, 2],\n",
       "       [4, 0, 1, 2, 3]], dtype=int32)"
      ]
     },
     "execution_count": 11,
     "metadata": {},
     "output_type": "execute_result"
    }
   ],
   "source": [
    "np.indices((5, 5)).sum(axis = 0) % 5"
   ]
  },
  {
   "cell_type": "markdown",
   "metadata": {},
   "source": [
    "**11.** Есть следующий алгоритм семплинирования, на вход функции подается вектор из целых положительных чисел и число семплов."
   ]
  },
  {
   "cell_type": "code",
   "execution_count": 12,
   "metadata": {},
   "outputs": [
    {
     "data": {
      "text/plain": [
       "[4, 0, 1, 0, 0]"
      ]
     },
     "execution_count": 12,
     "metadata": {},
     "output_type": "execute_result"
    }
   ],
   "source": [
    "def sample(x, c):\n",
    "    assert len(x) > 0\n",
    "\n",
    "    s = np.sum(x)\n",
    "    res = []\n",
    "    for _ in range(c):\n",
    "        val = s * np.random.random()\n",
    "        cur, idx = 0, 0\n",
    "        while cur + x[idx] <= val:\n",
    "            cur += x[idx]\n",
    "            idx += 1\n",
    "\n",
    "        res.append(idx)\n",
    "    return res\n",
    "\n",
    "\n",
    "sample([50, 3, 1, 7, 20], 5)"
   ]
  },
  {
   "cell_type": "markdown",
   "metadata": {},
   "source": [
    "Реализуйте данный алгоритм более оптимальным способом, без использования циклов."
   ]
  },
  {
   "cell_type": "code",
   "execution_count": 13,
   "metadata": {},
   "outputs": [
    {
     "data": {
      "text/plain": [
       "array([4, 0, 0, 0, 2])"
      ]
     },
     "execution_count": 13,
     "metadata": {},
     "output_type": "execute_result"
    }
   ],
   "source": [
    "def new_sample(x, c):\n",
    "    assert len(x) > 0\n",
    "\n",
    "    indices = np.arange(0, len(x))\n",
    "    prob = x / np.sum(x)\n",
    "    return np.random.choice(indices, size=c, p=prob)\n",
    "\n",
    "\n",
    "new_sample([50, 3, 1, 7, 20], 5)"
   ]
  }
 ],
 "metadata": {
  "kernelspec": {
   "display_name": "Python 3",
   "language": "python",
   "name": "python3"
  },
  "language_info": {
   "codemirror_mode": {
    "name": "ipython",
    "version": 3
   },
   "file_extension": ".py",
   "mimetype": "text/x-python",
   "name": "python",
   "nbconvert_exporter": "python",
   "pygments_lexer": "ipython3",
   "version": "3.7.10"
  }
 },
 "nbformat": 4,
 "nbformat_minor": 4
}
