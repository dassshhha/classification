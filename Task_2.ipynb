{
 "cells": [
  {
   "cell_type": "code",
   "execution_count": 1,
   "metadata": {},
   "outputs": [],
   "source": [
    "import numpy as np\n",
    "import scipy as sp\n",
    "import matplotlib.pyplot as plt\n",
    "import seaborn as sns\n",
    "\n",
    "%matplotlib inline"
   ]
  },
  {
   "cell_type": "markdown",
   "metadata": {},
   "source": [
    "# 1. Работа с массивами NumPy"
   ]
  },
  {
   "cell_type": "markdown",
   "metadata": {},
   "source": [
    "**N. Все упражнения ниже нужно делать без использования циклов Python**\n",
    "\n",
    "**1.** Cоздать вектор\n",
    "\n",
    "$$(2, \\frac{2^2}{2}, \\ldots, \\frac{2^{20}}{20})$$\n",
    "\n",
    "Можно использовать функции [np.arange()](http://docs.scipy.org/doc/numpy/reference/generated/numpy.arange.html), [np.ones()](http://docs.scipy.org/doc/numpy/reference/generated/numpy.ones.html)"
   ]
  },
  {
   "cell_type": "code",
   "execution_count": 2,
   "metadata": {},
   "outputs": [
    {
     "data": {
      "text/plain": [
       "array([2.00000000e+00, 2.00000000e+00, 2.66666667e+00, 4.00000000e+00,\n",
       "       6.40000000e+00, 1.06666667e+01, 1.82857143e+01, 3.20000000e+01,\n",
       "       5.68888889e+01, 1.02400000e+02, 1.86181818e+02, 3.41333333e+02,\n",
       "       6.30153846e+02, 1.17028571e+03, 2.18453333e+03, 4.09600000e+03,\n",
       "       7.71011765e+03, 1.45635556e+04, 2.75941053e+04, 5.24288000e+04])"
      ]
     },
     "execution_count": 2,
     "metadata": {},
     "output_type": "execute_result"
    }
   ],
   "source": [
    "a = np.arange(1, 21)\n",
    "result = np.power(2, a) / a\n",
    "result"
   ]
  },
  {
   "cell_type": "markdown",
   "metadata": {},
   "source": [
    "**2.** Посчитать:\n",
    "\n",
    "$$\\sum\\limits_{i=0}^{5}{0.1^{3i}0.2^{4i}}$$\n"
   ]
  },
  {
   "cell_type": "code",
   "execution_count": 3,
   "metadata": {},
   "outputs": [
    {
     "data": {
      "text/plain": [
       "1.00000160000256"
      ]
     },
     "execution_count": 3,
     "metadata": {},
     "output_type": "execute_result"
    }
   ],
   "source": [
    "a = np.arange(6)\n",
    "array1 = np.power(0.1, 3 * a) \n",
    "array2= np.power(0.2, 4 * a)\n",
    "result = np.dot(array1, array2)\n",
    "result"
   ]
  },
  {
   "cell_type": "markdown",
   "metadata": {},
   "source": [
    "**3.** Создать нулевую матрицe $8 \\times 8$, и заполнить её единицами в шахматном порядке."
   ]
  },
  {
   "cell_type": "code",
   "execution_count": 4,
   "metadata": {},
   "outputs": [
    {
     "data": {
      "text/plain": [
       "array([[0, 1, 0, 1, 0, 1, 0, 1],\n",
       "       [1, 0, 1, 0, 1, 0, 1, 0],\n",
       "       [0, 1, 0, 1, 0, 1, 0, 1],\n",
       "       [1, 0, 1, 0, 1, 0, 1, 0],\n",
       "       [0, 1, 0, 1, 0, 1, 0, 1],\n",
       "       [1, 0, 1, 0, 1, 0, 1, 0],\n",
       "       [0, 1, 0, 1, 0, 1, 0, 1],\n",
       "       [1, 0, 1, 0, 1, 0, 1, 0]])"
      ]
     },
     "execution_count": 4,
     "metadata": {},
     "output_type": "execute_result"
    }
   ],
   "source": [
    "z = np.zeros((8, 8), dtype=int)\n",
    "z[1::2, ::2] = 1\n",
    "z[::2, 1::2] = 1\n",
    "z"
   ]
  },
  {
   "cell_type": "markdown",
   "metadata": {},
   "source": [
    "**4.** Есть 5 точек в декартовой системе координат (в виде матрицы $X$ размерностью $5 \\times 2$), сконвертируйте эти точки в полярную систему координат."
   ]
  },
  {
   "cell_type": "code",
   "execution_count": 5,
   "metadata": {},
   "outputs": [
    {
     "name": "stdout",
     "output_type": "stream",
     "text": [
      "Cartesian\n",
      " [[0.08261773 0.63119188]\n",
      " [0.4156034  0.07296644]\n",
      " [0.14205606 0.02946208]\n",
      " [0.85546833 0.06515394]\n",
      " [0.75188764 0.86733133]]\n",
      "Polar\n",
      " [[0.6365759  0.78115134]\n",
      " [0.42196005 0.17122931]\n",
      " [0.14507908 0.20035153]\n",
      " [0.85794586 0.0757963 ]\n",
      " [1.14786701 0.64707716]]\n"
     ]
    }
   ],
   "source": [
    "X = np.random.random((5, 2))\n",
    "print('Cartesian\\n', X)\n",
    "X[:, 0] = np.sqrt(np.power(X[:, 0], 2) + np.power(X[:, 1], 2))\n",
    "X[:, 1] = np.arctan2(X[:, 1], X[:, 0])\n",
    "print('Polar\\n', X)"
   ]
  },
  {
   "cell_type": "markdown",
   "metadata": {},
   "source": [
    "**5.** Найдите индексы максимального элемента в случайной матрице $10 \\times 10$.\n",
    "\n",
    "Cм. [np.argmax()](http://docs.scipy.org/doc/numpy/reference/generated/numpy.argmax.html)."
   ]
  },
  {
   "cell_type": "code",
   "execution_count": 6,
   "metadata": {},
   "outputs": [
    {
     "name": "stdout",
     "output_type": "stream",
     "text": [
      "[[0.02990741 0.2023671  0.39524021 0.41382936 0.70321334 0.70969592\n",
      "  0.8255645  0.26390412 0.21820859 0.27665513]\n",
      " [0.09562649 0.66311044 0.79461373 0.54122122 0.89679408 0.26637884\n",
      "  0.77801157 0.57370291 0.88351889 0.01144902]\n",
      " [0.67681121 0.65566673 0.64106983 0.66412307 0.46047325 0.35193296\n",
      "  0.66493347 0.09296227 0.1982284  0.80866017]\n",
      " [0.29292574 0.2672128  0.85289941 0.28969979 0.97603118 0.92546548\n",
      "  0.72863319 0.50261524 0.12697395 0.1069463 ]\n",
      " [0.47685945 0.41616645 0.37843461 0.7088921  0.67097206 0.04206991\n",
      "  0.55055024 0.506835   0.23055069 0.40162642]\n",
      " [0.03704503 0.63173696 0.01549513 0.72097942 0.16324975 0.59274683\n",
      "  0.1130902  0.23769609 0.254167   0.8360232 ]\n",
      " [0.51298576 0.71166815 0.39806237 0.7858984  0.97881339 0.29027424\n",
      "  0.57539161 0.51785019 0.59976701 0.07021021]\n",
      " [0.97572236 0.78241338 0.29753856 0.59918874 0.90232643 0.7403282\n",
      "  0.98647496 0.85756847 0.31654331 0.75530551]\n",
      " [0.41535484 0.58195049 0.75022362 0.86542733 0.0523975  0.32505208\n",
      "  0.07053419 0.93507925 0.84326787 0.84945285]\n",
      " [0.51016172 0.72162534 0.18224391 0.27868855 0.56566587 0.98361255\n",
      "  0.47739264 0.68591382 0.92739625 0.50304304]]\n",
      "\n",
      "value:  0.986474962334798 \n",
      "indices:  (7, 6)\n"
     ]
    }
   ],
   "source": [
    "X = np.random.random((10, 10))\n",
    "print(X)\n",
    "ind = np.argmax(X)\n",
    "print('\\nvalue: ', X.flat[ind], '\\nindices: ', (ind // 10, ind % 10))"
   ]
  },
  {
   "cell_type": "markdown",
   "metadata": {},
   "source": [
    "**6.** Есть 10 точек ($X$) и ещё одна ($y$). Найти в $X$ ближайшую к $y$ точку."
   ]
  },
  {
   "cell_type": "code",
   "execution_count": 7,
   "metadata": {},
   "outputs": [
    {
     "name": "stdout",
     "output_type": "stream",
     "text": [
      "X:\n",
      " [[0.78378216 0.62552139]\n",
      " [0.50914945 0.14594378]\n",
      " [0.6779109  0.04856478]\n",
      " [0.635177   0.93522037]\n",
      " [0.48877481 0.81560957]\n",
      " [0.15451828 0.32672629]\n",
      " [0.99195216 0.7929786 ]\n",
      " [0.25238458 0.9393253 ]\n",
      " [0.50804695 0.94542374]\n",
      " [0.63159369 0.35787497]]\n",
      "\n",
      "y:\n",
      " [[0.35170372 0.81899499]]\n",
      "\n",
      "distances:\n",
      " [0.47341717 0.69122144 0.83664439 0.30637467 0.13711289 0.53029291\n",
      " 0.64077681 0.1560246  0.20106575 0.53941641]\n",
      "\n",
      " nearest point:\n",
      " [0.48877481 0.81560957]\n"
     ]
    }
   ],
   "source": [
    "X = np.random.random((10, 2))\n",
    "print('X:\\n', X)\n",
    "y = np.random.random((1, 2))\n",
    "print('\\ny:\\n', y)\n",
    "dist = np.sqrt(\n",
    "    np.power((X[:, 0] - y[0, 0]), 2) + np.power((X[:, 1] - y[0, 1]), 2))\n",
    "print('\\ndistances:\\n', dist)\n",
    "print('\\n nearest point:\\n', X[np.argmin(dist)])"
   ]
  },
  {
   "cell_type": "markdown",
   "metadata": {},
   "source": [
    "**7.** Дана функция:\n",
    "\n",
    "$$\n",
    " \\begin{cases}\n",
    "    x^2 + 2x + 6, & x < 0  \\\\\n",
    "    x + 6, & 0 \\le x \\le 2 \\\\\n",
    "    x^2 + 4x - 4, & x \\ge 2\n",
    " \\end{cases}\n",
    "$$\n",
    "\n",
    "Постройте массив из её значений на  $-3 \\le x \\le 3$."
   ]
  },
  {
   "cell_type": "code",
   "execution_count": 8,
   "metadata": {},
   "outputs": [
    {
     "data": {
      "text/plain": [
       "array([ 9.        ,  8.76124885,  8.52984389,  8.30578512,  8.08907254,\n",
       "        7.87970615,  7.67768595,  7.48301194,  7.29568411,  7.11570248,\n",
       "        6.94306703,  6.77777778,  6.61983471,  6.46923783,  6.32598714,\n",
       "        6.19008264,  6.06152433,  5.94031221,  5.82644628,  5.71992654,\n",
       "        5.62075298,  5.52892562,  5.44444444,  5.36730946,  5.29752066,\n",
       "        5.23507805,  5.17998163,  5.1322314 ,  5.09182736,  5.05876951,\n",
       "        5.03305785,  5.01469238,  5.00367309,  5.        ,  5.00367309,\n",
       "        5.01469238,  5.03305785,  5.05876951,  5.09182736,  5.1322314 ,\n",
       "        5.17998163,  5.23507805,  5.29752066,  5.36730946,  5.44444444,\n",
       "        5.52892562,  5.62075298,  5.71992654,  5.82644628,  5.94031221,\n",
       "        6.03030303,  6.09090909,  6.15151515,  6.21212121,  6.27272727,\n",
       "        6.33333333,  6.39393939,  6.45454545,  6.51515152,  6.57575758,\n",
       "        6.63636364,  6.6969697 ,  6.75757576,  6.81818182,  6.87878788,\n",
       "        6.93939394,  7.        ,  7.06060606,  7.12121212,  7.18181818,\n",
       "        7.24242424,  7.3030303 ,  7.36363636,  7.42424242,  7.48484848,\n",
       "        7.54545455,  7.60606061,  7.66666667,  7.72727273,  7.78787879,\n",
       "        7.84848485,  7.90909091,  7.96969697,  8.24334252,  8.73553719,\n",
       "        9.23507805,  9.74196511, 10.25619835, 10.77777778, 11.3067034 ,\n",
       "       11.84297521, 12.3865932 , 12.93755739, 13.49586777, 14.06152433,\n",
       "       14.63452709, 15.21487603, 15.80257117, 16.39761249, 17.        ])"
      ]
     },
     "execution_count": 8,
     "metadata": {},
     "output_type": "execute_result"
    }
   ],
   "source": [
    "@np.vectorize\n",
    "def func(x):\n",
    "    if x<0:\n",
    "        return x**2 + 2 * x + 6\n",
    "    elif x>=2:\n",
    "        return x**2 + 4 * x - 4\n",
    "    else:\n",
    "        return x+6\n",
    "\n",
    "x = np.linspace(-3, 3, 100)\n",
    "func(x)"
   ]
  },
  {
   "cell_type": "markdown",
   "metadata": {},
   "source": [
    "**8.** Из каждого элемента матрицы вычесть среднее арифметическое от всех элементов в соответствующей строке (после чего среднее значение каждой строки должно равняться нулю).\n",
    "\n",
    "Cм. [np.mean()](http://docs.scipy.org/doc/numpy/reference/generated/numpy.mean.html)."
   ]
  },
  {
   "cell_type": "code",
   "execution_count": 9,
   "metadata": {},
   "outputs": [
    {
     "name": "stdout",
     "output_type": "stream",
     "text": [
      "Check result:\n",
      " [-5.55111512e-17 -7.77156117e-17 -9.99200722e-17 -1.11022302e-17\n",
      " -1.22124533e-16 -1.11022302e-17 -2.22044605e-17 -1.11022302e-16\n",
      "  7.77156117e-17 -1.11022302e-17]\n"
     ]
    }
   ],
   "source": [
    "X = np.random.random((10, 10))\n",
    "X = X - X.mean(axis=0)\n",
    "print('Check result:\\n', X.mean(axis=0))"
   ]
  },
  {
   "cell_type": "markdown",
   "metadata": {},
   "source": [
    "**9.** Есть массив из 1000 чисел, полученных из генератора случайных чисел, имеющий нормальное распределение. Посчитайте выборочное среднее и выборочную дисперсию. "
   ]
  },
  {
   "cell_type": "code",
   "execution_count": 10,
   "metadata": {},
   "outputs": [
    {
     "name": "stdout",
     "output_type": "stream",
     "text": [
      "expected value:  4.9578084919934655 \n",
      "dispersion:  4.148454298844579\n"
     ]
    }
   ],
   "source": [
    "X = np.random.normal(loc=5, scale=2., size=1000)\n",
    "print('expected value: ', np.mean(X), '\\ndispersion: ', np.nanvar(X))"
   ]
  },
  {
   "cell_type": "markdown",
   "metadata": {},
   "source": [
    "**10.** Создать матрицу:\n",
    "\n",
    "$$\n",
    "\\begin{pmatrix}\n",
    "0 & 1 & 2 & 3 & 4 \\\\\n",
    "1 & 2 & 3 & 4 & 0 \\\\\n",
    "2 & 3 & 4 & 0 & 1 \\\\\n",
    "3 & 4 & 0 & 1 & 2 \\\\\n",
    "4 & 0 & 1 & 2 & 3\n",
    "\\end{pmatrix}\n",
    "$$"
   ]
  },
  {
   "cell_type": "code",
   "execution_count": 11,
   "metadata": {},
   "outputs": [
    {
     "data": {
      "text/plain": [
       "array([[0, 1, 2, 3, 4],\n",
       "       [1, 2, 3, 4, 0],\n",
       "       [2, 3, 4, 0, 1],\n",
       "       [3, 4, 0, 1, 2],\n",
       "       [4, 0, 1, 2, 3]], dtype=int32)"
      ]
     },
     "execution_count": 11,
     "metadata": {},
     "output_type": "execute_result"
    }
   ],
   "source": [
    "np.indices((5, 5)).sum(axis = 0) % 5"
   ]
  },
  {
   "cell_type": "markdown",
   "metadata": {},
   "source": [
    "**11.** Есть следующий алгоритм семплинирования, на вход функции подается вектор из целых положительных чисел и число семплов."
   ]
  },
  {
   "cell_type": "code",
   "execution_count": 12,
   "metadata": {},
   "outputs": [
    {
     "data": {
      "text/plain": [
       "[1, 0, 4, 4, 0]"
      ]
     },
     "execution_count": 12,
     "metadata": {},
     "output_type": "execute_result"
    }
   ],
   "source": [
    "def sample(x, c):\n",
    "    assert len(x) > 0\n",
    "\n",
    "    s = np.sum(x)\n",
    "    res = []\n",
    "    for _ in range(c):\n",
    "        val = s * np.random.random()\n",
    "        cur, idx = 0, 0\n",
    "        while cur + x[idx] <= val:\n",
    "            cur += x[idx]\n",
    "            idx += 1\n",
    "\n",
    "        res.append(idx)\n",
    "    return res\n",
    "\n",
    "\n",
    "sample([50, 3, 1, 7, 20], 5)"
   ]
  },
  {
   "cell_type": "markdown",
   "metadata": {},
   "source": [
    "Реализуйте данный алгоритм более оптимальным способом, без использования циклов."
   ]
  },
  {
   "cell_type": "code",
   "execution_count": 13,
   "metadata": {},
   "outputs": [
    {
     "data": {
      "text/plain": [
       "array([0, 0, 4, 4, 0])"
      ]
     },
     "execution_count": 13,
     "metadata": {},
     "output_type": "execute_result"
    }
   ],
   "source": [
    "def new_sample(x, c):\n",
    "    assert len(x) > 0\n",
    "\n",
    "    indices = np.arange(0, len(x))\n",
    "    prob = x / np.sum(x)\n",
    "    return np.random.choice(indices, size=c, p=prob)\n",
    "\n",
    "\n",
    "new_sample([50, 3, 1, 7, 20], 5)"
   ]
  }
 ],
 "metadata": {
  "kernelspec": {
   "display_name": "Python 3",
   "language": "python",
   "name": "python3"
  },
  "language_info": {
   "codemirror_mode": {
    "name": "ipython",
    "version": 3
   },
   "file_extension": ".py",
   "mimetype": "text/x-python",
   "name": "python",
   "nbconvert_exporter": "python",
   "pygments_lexer": "ipython3",
   "version": "3.7.10"
  }
 },
 "nbformat": 4,
 "nbformat_minor": 4
}
