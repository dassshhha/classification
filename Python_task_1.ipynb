{
 "cells": [
  {
   "cell_type": "markdown",
   "metadata": {},
   "source": [
    "# Задание 1\n",
    "\n",
    "[Свертка списка](https://ru.wikipedia.org/wiki/%D0%A1%D0%B2%D1%91%D1%80%D1%82%D0%BA%D0%B0_%D1%81%D0%BF%D0%B8%D1%81%D0%BA%D0%B0) -  это обобщенная операция над списком, c помощью которой можно преобразовать список в единое значение. Например, рассмотрим реализации свертки слева и свертки справа (левоассоциативную свертку и правоассоциативную свертку):"
   ]
  },
  {
   "cell_type": "code",
   "execution_count": 2,
   "metadata": {
    "jupyter": {
     "outputs_hidden": true
    }
   },
   "outputs": [],
   "source": [
    "def foldl(f, x0, lst):\n",
    "    if not lst:\n",
    "        return x0\n",
    "    return foldl(f, f(x0, lst[0]), lst[1:])\n",
    "\n",
    "def foldr(f, x0, lst):\n",
    "    if not lst:\n",
    "        return x0\n",
    "    return f(lst[0], foldr(f, x0, lst[1:]))"
   ]
  },
  {
   "cell_type": "code",
   "execution_count": 13,
   "metadata": {},
   "outputs": [
    {
     "data": {
      "text/plain": [
       "6"
      ]
     },
     "execution_count": 13,
     "metadata": {},
     "output_type": "execute_result"
    }
   ],
   "source": [
    "#сумма\n",
    "foldr2(lambda x, y: x + y, 0, [1, 2, 3])"
   ]
  },
  {
   "cell_type": "code",
   "execution_count": 9,
   "metadata": {},
   "outputs": [
    {
     "data": {
      "text/plain": [
       "'123'"
      ]
     },
     "execution_count": 9,
     "metadata": {},
     "output_type": "execute_result"
    }
   ],
   "source": [
    "#конкатенация\n",
    "foldl2(lambda x, y: '{}{}'.format(x, y), '', [1, 2, 3])"
   ]
  },
  {
   "cell_type": "code",
   "execution_count": 14,
   "metadata": {},
   "outputs": [
    {
     "data": {
      "text/plain": [
       "(0.16666666666666666, 1.5)"
      ]
     },
     "execution_count": 14,
     "metadata": {},
     "output_type": "execute_result"
    }
   ],
   "source": [
    "f = lambda x, y: x / y\n",
    "foldl2(f, 1, [1, 2, 3]), \\\n",
    "foldr2(f, 1, [1, 2, 3])"
   ]
  },
  {
   "cell_type": "markdown",
   "metadata": {},
   "source": [
    "Задача: реализовать foldl через foldr и наоборот. Вместо многоточий нужно вставить выражения, которые бы привели к нужному результату. Модифицировать сам список нельзя. "
   ]
  },
  {
   "cell_type": "code",
   "execution_count": 8,
   "metadata": {
    "jupyter": {
     "outputs_hidden": true
    }
   },
   "outputs": [],
   "source": [
    "def foldl2(f, x0, lst):\n",
    "    return foldr(lambda val, acc: lambda n: acc(f(n, val)), lambda x: x, lst)(x0)"
   ]
  },
  {
   "cell_type": "code",
   "execution_count": 12,
   "metadata": {
    "jupyter": {
     "outputs_hidden": true
    }
   },
   "outputs": [],
   "source": [
    "def foldr2(f, x0, lst):\n",
    "    return foldl(lambda acc, val: lambda n: acc(f(val, n)), lambda x: x, lst)(x0)"
   ]
  },
  {
   "cell_type": "markdown",
   "metadata": {},
   "source": [
    "# Задание 2\n",
    "\n",
    "нужно написать функцию, которая принимает две строки и проверяет, входит ли хотя бы одна перестановка второй строки в первую. Например:\n",
    "\n",
    "> a = 'abcrotm'\n",
    "> \n",
    "> b = 'tro'\n",
    "\n",
    "функция def check_inv(a, b) вернет True, так как 'rot' содержится в 'abcrotm'. Нужно подумать как можно более оптимальный алгоритм и оценить его сложность. "
   ]
  },
  {
   "cell_type": "code",
   "execution_count": 1,
   "metadata": {},
   "outputs": [],
   "source": [
    "from collections import Counter"
   ]
  },
  {
   "cell_type": "code",
   "execution_count": 8,
   "metadata": {
    "jupyter": {
     "outputs_hidden": true
    }
   },
   "outputs": [],
   "source": [
    "def check_inv(a, b):\n",
    "    cnt = Counter(b)\n",
    "    l_b = len(b)\n",
    "    for _ in a:\n",
    "        if cnt[_] > 0:\n",
    "            cnt[_] -= 1\n",
    "        else:\n",
    "            if sum(cnt.values()) < l_b:\n",
    "                cnt = Counter(b)\n",
    "        if sum(cnt.values()) == 0:\n",
    "            return True\n",
    "    return False"
   ]
  },
  {
   "cell_type": "code",
   "execution_count": 10,
   "metadata": {},
   "outputs": [
    {
     "data": {
      "text/plain": [
       "True"
      ]
     },
     "execution_count": 10,
     "metadata": {},
     "output_type": "execute_result"
    }
   ],
   "source": [
    "a='afdgcrodtg'\n",
    "b='gfd'\n",
    "check_inv(a,b)"
   ]
  },
  {
   "cell_type": "code",
   "execution_count": 11,
   "metadata": {},
   "outputs": [
    {
     "data": {
      "text/plain": [
       "False"
      ]
     },
     "execution_count": 11,
     "metadata": {},
     "output_type": "execute_result"
    }
   ],
   "source": [
    "a='afdcrodtg'\n",
    "b='gfd'\n",
    "check_inv(a,b)"
   ]
  },
  {
   "cell_type": "markdown",
   "metadata": {},
   "source": [
    "# Задание 3\n",
    "\n",
    "Реализовать бинарное дерево (класс Tree), в нём методы __repr__, __str__, __iter__ (итерация только по листьям)."
   ]
  },
  {
   "cell_type": "code",
   "execution_count": 88,
   "metadata": {},
   "outputs": [
    {
     "name": "stdout",
     "output_type": "stream",
     "text": [
      "Tree with vertex 0, left node 1 and right node 2\n",
      "Tree(0, Tree(1, Tree(3, None, None), Tree(4, None, None)), Tree(2, None, None))\n",
      "[3, 4, 2]\n"
     ]
    }
   ],
   "source": [
    "class Tree:\n",
    "    def __init__(self, value=None, left=None, right=None):\n",
    "        self.left = left\n",
    "        self.right = right\n",
    "        self.value = value\n",
    "\n",
    "    def __iter__(self):\n",
    "        return iter(self.get_nodes())\n",
    "\n",
    "    def __str__(self):\n",
    "        return f\"Tree with vertex {self.value}, left node {self.left.get_value()} and right node {self.right.get_value()}\"\n",
    "\n",
    "    def __repr__(self):\n",
    "        return f\"Tree({self.value}, {repr(self.left)}, {repr(self.right)})\"\n",
    "\n",
    "    def get_nodes(self):\n",
    "        if self.left is None and self.right is None:\n",
    "            return [self.value]\n",
    "        nodes = []\n",
    "        if self.left is not None:\n",
    "            nodes.extend(self.left.get_nodes())\n",
    "        if self.right is not None:\n",
    "            nodes.extend(self.right.get_nodes())\n",
    "        return nodes\n",
    "\n",
    "    def get_value(self):\n",
    "        return str(self.value)\n",
    "\n",
    "\n",
    "tree = Tree(0, Tree(1, Tree(3), Tree(4)), Tree(2))\n",
    "\n",
    "print(tree)\n",
    "print(repr(tree))\n",
    "print(list(tree))"
   ]
  },
  {
   "cell_type": "markdown",
   "metadata": {},
   "source": [
    "# Задание 4\n",
    "\n",
    "Реализовать простейший калькулятор математических выражений:\n",
    "- только целые числа\n",
    "- **+**, **\\-**, **\\***, **\\**\n",
    "- скобки\n",
    "\n",
    "**Можно использовать регулярные выражения**"
   ]
  },
  {
   "cell_type": "code",
   "execution_count": 25,
   "metadata": {},
   "outputs": [
    {
     "data": {
      "text/plain": [
       "True"
      ]
     },
     "execution_count": 25,
     "metadata": {},
     "output_type": "execute_result"
    }
   ],
   "source": [
    "def calc(expr):\n",
    "    polish_notation= create_polish_notation(expr)\n",
    "    stack = []\n",
    "    for element in polish_notation:\n",
    "        if type(element) == int:\n",
    "            stack.append(element)\n",
    "        else:\n",
    "            el2=stack.pop()\n",
    "            el1=stack.pop()\n",
    "            if element == '+':\n",
    "                stack.append(el1+el2)\n",
    "            if element == '-':\n",
    "                stack.append(el1-el2)\n",
    "            if element == '*':\n",
    "                stack.append(el1*el2)\n",
    "            if element == '/':\n",
    "                stack.append(el1/el2)\n",
    "    return stack.pop()\n",
    "        \n",
    "    \n",
    "    \n",
    "calc('2 * (15 - 3 * 4) - 2') == 4"
   ]
  },
  {
   "cell_type": "code",
   "execution_count": 17,
   "metadata": {},
   "outputs": [],
   "source": [
    "def create_polish_notation(expr):\n",
    "    notation = []\n",
    "    stack = []\n",
    "\n",
    "    operations = {'(': 0, ')': 0, '+': 1, '-': 1, '*': 2, '/': 2}\n",
    "    numerals = [str(x) for x in range(10)]\n",
    "\n",
    "    number = 0\n",
    "    number_flag = False\n",
    "    for element in expr:\n",
    "        if element in numerals:\n",
    "            number_flag = True\n",
    "            number = number * 10 + int(element)\n",
    "\n",
    "        else:\n",
    "            if number_flag:\n",
    "                notation.append(number)\n",
    "                number_flag = False\n",
    "                number = 0\n",
    "\n",
    "            if element == '(':\n",
    "                stack.append(element)\n",
    "            elif element == ')':\n",
    "                el = stack.pop()\n",
    "                while el != '(':\n",
    "                    notation.append(el)\n",
    "                    el = stack.pop()\n",
    "\n",
    "            elif element in operations.keys():\n",
    "                priority_of_el = operations[element]\n",
    "                if not stack:\n",
    "                    priority_of_el_in_stack = 0\n",
    "                else:\n",
    "                    priority_of_el_in_stack = operations[stack[-1]]\n",
    "\n",
    "                while priority_of_el_in_stack >= priority_of_el:\n",
    "                    notation.append(stack.pop())\n",
    "                    if not stack:\n",
    "                        priority_of_el_in_stack = 0\n",
    "                    else:\n",
    "                        priority_of_el_in_stack = operations[stack[-1]]\n",
    "                stack.append(element)\n",
    "\n",
    "    if number_flag:\n",
    "        notation.append(number)\n",
    "    while stack:\n",
    "        notation.append(stack.pop())\n",
    "    return notation"
   ]
  }
 ],
 "metadata": {
  "kernelspec": {
   "display_name": "Python 3",
   "language": "python",
   "name": "python3"
  },
  "language_info": {
   "codemirror_mode": {
    "name": "ipython",
    "version": 3
   },
   "file_extension": ".py",
   "mimetype": "text/x-python",
   "name": "python",
   "nbconvert_exporter": "python",
   "pygments_lexer": "ipython3",
   "version": "3.7.3"
  }
 },
 "nbformat": 4,
 "nbformat_minor": 4
}
