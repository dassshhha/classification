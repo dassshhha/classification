{
  "cells": [
    {
      "cell_type": "markdown",
      "metadata": {
        "id": "tLy2I8x-bQEk"
      },
      "source": [
        "## Данные\n",
        "\n",
        "Данные в [архиве](https://drive.google.com/file/d/15o7fdxTgndoy6K-e7g8g1M2-bOOwqZPl/view?usp=sharing). В нём два файла:\n",
        "- `news_train.txt` тестовое множество\n",
        "- `news_test.txt` тренировочное множество\n",
        "\n",
        "С некоторых новостных сайтов были загружены тексты новостей за период  несколько лет, причем каждая новость принаделжит к какой-то рубрике: `science`, `style`, `culture`, `life`, `economics`, `business`, `travel`, `forces`, `media`, `sport`.\n",
        "\n",
        "В каждой строке файла содержится метка рубрики, заголовок новостной статьи и сам текст статьи, например:\n",
        "\n",
        ">    **sport**&nbsp;&lt;tab&gt;&nbsp;**Сборная Канады по хоккею разгромила чехов**&nbsp;&lt;tab&gt;&nbsp;**Сборная Канады по хоккею крупно об...**"
      ]
    },
    {
      "cell_type": "markdown",
      "metadata": {
        "id": "sX7EjZ-bbQE0"
      },
      "source": [
        "# Задача\n",
        "\n",
        "1. Обработать данные, получив для каждого текста набор токенов\n",
        "Обработать токены с помощью (один вариант из трех):\n",
        "    - pymorphy2\n",
        "    - русского [snowball стеммера](https://www.nltk.org/howto/stem.html)\n",
        "    - [SentencePiece](https://github.com/google/sentencepiece) или [Huggingface Tokenizers](https://github.com/huggingface/tokenizers)\n",
        "    \n",
        "    \n",
        "2. Обучить word embeddings (fastText, word2vec, gloVe) на тренировочных данных. Можно использовать [gensim](https://radimrehurek.com/gensim/models/word2vec.html) . Продемонстрировать семантические ассоциации. \n",
        "\n",
        "3. Реализовать алгоритм классификации документа по категориям, посчитать точноть на тестовых данных, подобрать гиперпараметры. Метод векторизации выбрать произвольно - можно использовать $tf-idf$ с понижением размерности (см. scikit-learn), можно использовать обученные на предыдущем шаге векторные представления, можно использовать [предобученные модели](https://rusvectores.org/ru/models/). Имейте ввиду, что простое \"усреднение\" токенов в тексте скорее всего не даст положительных результатов. Нужно реализовать два алгоритмов из трех:\n",
        "     - SVM\n",
        "     - наивный байесовский классификатор\n",
        "     - логистическая регрессия\n",
        "    \n",
        "\n",
        "4.* Реализуйте классификацию с помощью нейросетевых моделей. Например [RuBERT](http://docs.deeppavlov.ai/en/master/features/models/bert.html) или [ELMo](https://rusvectores.org/ru/models/)."
      ]
    },
    {
      "cell_type": "markdown",
      "source": [
        "###TASK 1"
      ],
      "metadata": {
        "id": "sKyz_XBOUjSq"
      }
    },
    {
      "cell_type": "code",
      "source": [
        "from google.colab import drive\n",
        "drive.mount('/content/drive')"
      ],
      "metadata": {
        "id": "gsu7EnvVhjeq",
        "colab": {
          "base_uri": "https://localhost:8080/"
        },
        "outputId": "7b870d95-43ef-4248-e68e-3c2eac4b1cfa"
      },
      "execution_count": 1,
      "outputs": [
        {
          "output_type": "stream",
          "name": "stdout",
          "text": [
            "Drive already mounted at /content/drive; to attempt to forcibly remount, call drive.mount(\"/content/drive\", force_remount=True).\n"
          ]
        }
      ]
    },
    {
      "cell_type": "code",
      "source": [
        "import pandas as pd\n",
        "import numpy as np"
      ],
      "metadata": {
        "id": "iM6zADOzhnlv"
      },
      "execution_count": 2,
      "outputs": []
    },
    {
      "cell_type": "code",
      "source": [
        "TRAIN_PATH = \"/content/drive/MyDrive/news/news_train.txt\"\n",
        "TEST_PATH = \"/content/drive/MyDrive/news/news_test.txt\""
      ],
      "metadata": {
        "id": "vpLmBB1lw49S"
      },
      "execution_count": 3,
      "outputs": []
    },
    {
      "cell_type": "code",
      "source": [
        "train_data = pd.read_csv(TRAIN_PATH, sep=\"\\t\", header=None, names=['topic', 'headline', 'info'])\n",
        "test_data = pd.read_csv(TEST_PATH, sep=\"\\t\", header=None, names=['topic', 'headline', 'info'])"
      ],
      "metadata": {
        "id": "9nm545MT2E5q"
      },
      "execution_count": 4,
      "outputs": []
    },
    {
      "cell_type": "code",
      "source": [
        "train_data.head()"
      ],
      "metadata": {
        "id": "A3ie6YdN2Sdv",
        "colab": {
          "base_uri": "https://localhost:8080/",
          "height": 206
        },
        "outputId": "d54ffddb-6b53-4075-ddb9-b830989665c8"
      },
      "execution_count": 5,
      "outputs": [
        {
          "output_type": "execute_result",
          "data": {
            "text/html": [
              "\n",
              "  <div id=\"df-1e2436b7-6233-472d-b77e-f1488fd1bb42\">\n",
              "    <div class=\"colab-df-container\">\n",
              "      <div>\n",
              "<style scoped>\n",
              "    .dataframe tbody tr th:only-of-type {\n",
              "        vertical-align: middle;\n",
              "    }\n",
              "\n",
              "    .dataframe tbody tr th {\n",
              "        vertical-align: top;\n",
              "    }\n",
              "\n",
              "    .dataframe thead th {\n",
              "        text-align: right;\n",
              "    }\n",
              "</style>\n",
              "<table border=\"1\" class=\"dataframe\">\n",
              "  <thead>\n",
              "    <tr style=\"text-align: right;\">\n",
              "      <th></th>\n",
              "      <th>topic</th>\n",
              "      <th>headline</th>\n",
              "      <th>info</th>\n",
              "    </tr>\n",
              "  </thead>\n",
              "  <tbody>\n",
              "    <tr>\n",
              "      <th>0</th>\n",
              "      <td>sport</td>\n",
              "      <td>Овечкин пожертвовал детской хоккейной школе ав...</td>\n",
              "      <td>Нападающий «Вашингтон Кэпиталз» Александр Овеч...</td>\n",
              "    </tr>\n",
              "    <tr>\n",
              "      <th>1</th>\n",
              "      <td>culture</td>\n",
              "      <td>Рекордно дорогую статую майя признали подделкой</td>\n",
              "      <td>Власти Мексики объявили подделкой статую майя,...</td>\n",
              "    </tr>\n",
              "    <tr>\n",
              "      <th>2</th>\n",
              "      <td>science</td>\n",
              "      <td>Samsung представила флагман в защищенном корпусе</td>\n",
              "      <td>Южнокорейская Samsung анонсировала защищенную ...</td>\n",
              "    </tr>\n",
              "    <tr>\n",
              "      <th>3</th>\n",
              "      <td>sport</td>\n",
              "      <td>С футболиста «Спартака» сняли четырехматчевую ...</td>\n",
              "      <td>Контрольно-дисциплинарный комитет (КДК) РФС сн...</td>\n",
              "    </tr>\n",
              "    <tr>\n",
              "      <th>4</th>\n",
              "      <td>media</td>\n",
              "      <td>Hopes &amp; Fears объединится с The Village</td>\n",
              "      <td>Интернет-издание Hopes &amp; Fears объявило о свое...</td>\n",
              "    </tr>\n",
              "  </tbody>\n",
              "</table>\n",
              "</div>\n",
              "      <button class=\"colab-df-convert\" onclick=\"convertToInteractive('df-1e2436b7-6233-472d-b77e-f1488fd1bb42')\"\n",
              "              title=\"Convert this dataframe to an interactive table.\"\n",
              "              style=\"display:none;\">\n",
              "        \n",
              "  <svg xmlns=\"http://www.w3.org/2000/svg\" height=\"24px\"viewBox=\"0 0 24 24\"\n",
              "       width=\"24px\">\n",
              "    <path d=\"M0 0h24v24H0V0z\" fill=\"none\"/>\n",
              "    <path d=\"M18.56 5.44l.94 2.06.94-2.06 2.06-.94-2.06-.94-.94-2.06-.94 2.06-2.06.94zm-11 1L8.5 8.5l.94-2.06 2.06-.94-2.06-.94L8.5 2.5l-.94 2.06-2.06.94zm10 10l.94 2.06.94-2.06 2.06-.94-2.06-.94-.94-2.06-.94 2.06-2.06.94z\"/><path d=\"M17.41 7.96l-1.37-1.37c-.4-.4-.92-.59-1.43-.59-.52 0-1.04.2-1.43.59L10.3 9.45l-7.72 7.72c-.78.78-.78 2.05 0 2.83L4 21.41c.39.39.9.59 1.41.59.51 0 1.02-.2 1.41-.59l7.78-7.78 2.81-2.81c.8-.78.8-2.07 0-2.86zM5.41 20L4 18.59l7.72-7.72 1.47 1.35L5.41 20z\"/>\n",
              "  </svg>\n",
              "      </button>\n",
              "      \n",
              "  <style>\n",
              "    .colab-df-container {\n",
              "      display:flex;\n",
              "      flex-wrap:wrap;\n",
              "      gap: 12px;\n",
              "    }\n",
              "\n",
              "    .colab-df-convert {\n",
              "      background-color: #E8F0FE;\n",
              "      border: none;\n",
              "      border-radius: 50%;\n",
              "      cursor: pointer;\n",
              "      display: none;\n",
              "      fill: #1967D2;\n",
              "      height: 32px;\n",
              "      padding: 0 0 0 0;\n",
              "      width: 32px;\n",
              "    }\n",
              "\n",
              "    .colab-df-convert:hover {\n",
              "      background-color: #E2EBFA;\n",
              "      box-shadow: 0px 1px 2px rgba(60, 64, 67, 0.3), 0px 1px 3px 1px rgba(60, 64, 67, 0.15);\n",
              "      fill: #174EA6;\n",
              "    }\n",
              "\n",
              "    [theme=dark] .colab-df-convert {\n",
              "      background-color: #3B4455;\n",
              "      fill: #D2E3FC;\n",
              "    }\n",
              "\n",
              "    [theme=dark] .colab-df-convert:hover {\n",
              "      background-color: #434B5C;\n",
              "      box-shadow: 0px 1px 3px 1px rgba(0, 0, 0, 0.15);\n",
              "      filter: drop-shadow(0px 1px 2px rgba(0, 0, 0, 0.3));\n",
              "      fill: #FFFFFF;\n",
              "    }\n",
              "  </style>\n",
              "\n",
              "      <script>\n",
              "        const buttonEl =\n",
              "          document.querySelector('#df-1e2436b7-6233-472d-b77e-f1488fd1bb42 button.colab-df-convert');\n",
              "        buttonEl.style.display =\n",
              "          google.colab.kernel.accessAllowed ? 'block' : 'none';\n",
              "\n",
              "        async function convertToInteractive(key) {\n",
              "          const element = document.querySelector('#df-1e2436b7-6233-472d-b77e-f1488fd1bb42');\n",
              "          const dataTable =\n",
              "            await google.colab.kernel.invokeFunction('convertToInteractive',\n",
              "                                                     [key], {});\n",
              "          if (!dataTable) return;\n",
              "\n",
              "          const docLinkHtml = 'Like what you see? Visit the ' +\n",
              "            '<a target=\"_blank\" href=https://colab.research.google.com/notebooks/data_table.ipynb>data table notebook</a>'\n",
              "            + ' to learn more about interactive tables.';\n",
              "          element.innerHTML = '';\n",
              "          dataTable['output_type'] = 'display_data';\n",
              "          await google.colab.output.renderOutput(dataTable, element);\n",
              "          const docLink = document.createElement('div');\n",
              "          docLink.innerHTML = docLinkHtml;\n",
              "          element.appendChild(docLink);\n",
              "        }\n",
              "      </script>\n",
              "    </div>\n",
              "  </div>\n",
              "  "
            ],
            "text/plain": [
              "     topic  ...                                               info\n",
              "0    sport  ...  Нападающий «Вашингтон Кэпиталз» Александр Овеч...\n",
              "1  culture  ...  Власти Мексики объявили подделкой статую майя,...\n",
              "2  science  ...  Южнокорейская Samsung анонсировала защищенную ...\n",
              "3    sport  ...  Контрольно-дисциплинарный комитет (КДК) РФС сн...\n",
              "4    media  ...  Интернет-издание Hopes & Fears объявило о свое...\n",
              "\n",
              "[5 rows x 3 columns]"
            ]
          },
          "metadata": {},
          "execution_count": 5
        }
      ]
    },
    {
      "cell_type": "code",
      "source": [
        "!pip install pymorphy2\n",
        "\n",
        "import pymorphy2\n",
        "import nltk\n",
        "nltk.download('punkt')\n",
        "from nltk.tokenize import word_tokenize\n",
        "nltk.download('stopwords')\n",
        "from nltk.corpus import stopwords\n",
        "import string\n",
        "from sklearn.preprocessing import LabelEncoder\n",
        "from keras.preprocessing.sequence import pad_sequences\n",
        "\n",
        "rus_stopwords = stopwords.words(\"russian\")\n",
        "morph = pymorphy2.MorphAnalyzer()"
      ],
      "metadata": {
        "id": "BTRAydhSJgs3",
        "colab": {
          "base_uri": "https://localhost:8080/"
        },
        "outputId": "1a666c5c-adc6-4121-fafb-6af27eb82acf"
      },
      "execution_count": 6,
      "outputs": [
        {
          "output_type": "stream",
          "name": "stdout",
          "text": [
            "Requirement already satisfied: pymorphy2 in /usr/local/lib/python3.7/dist-packages (0.9.1)\n",
            "Requirement already satisfied: dawg-python>=0.7.1 in /usr/local/lib/python3.7/dist-packages (from pymorphy2) (0.7.2)\n",
            "Requirement already satisfied: pymorphy2-dicts-ru<3.0,>=2.4 in /usr/local/lib/python3.7/dist-packages (from pymorphy2) (2.4.417127.4579844)\n",
            "Requirement already satisfied: docopt>=0.6 in /usr/local/lib/python3.7/dist-packages (from pymorphy2) (0.6.2)\n",
            "[nltk_data] Downloading package punkt to /root/nltk_data...\n",
            "[nltk_data]   Package punkt is already up-to-date!\n",
            "[nltk_data] Downloading package stopwords to /root/nltk_data...\n",
            "[nltk_data]   Package stopwords is already up-to-date!\n"
          ]
        }
      ]
    },
    {
      "cell_type": "code",
      "source": [
        "def text_preprocessing(text):\n",
        "  punctuation = string.punctuation + '«' + '»' + '—'\n",
        "  text = \"\".join(ch if ch not in punctuation else ' ' for ch in text)\n",
        "  text = \"\".join([ch if not ch.isdigit() else ' ' for ch in text])\n",
        "  words = text.split()\n",
        "  tokens = []\n",
        "  for word in words:\n",
        "    word = morph.parse(word)[0].normal_form\n",
        "    if word not in rus_stopwords:\n",
        "      tokens.append(word)\n",
        "  text = \" \".join(tokens)\n",
        "  return text"
      ],
      "metadata": {
        "id": "cxfoeP1RKMZQ"
      },
      "execution_count": 7,
      "outputs": []
    },
    {
      "cell_type": "code",
      "source": [
        "for i in range(len(train_data)):\n",
        "  train_data[\"headline\"][i] = text_preprocessing(train_data[\"headline\"][i])\n",
        "  train_data[\"info\"][i] = text_preprocessing(train_data[\"info\"][i])"
      ],
      "metadata": {
        "id": "n5XUQxq_TSQX"
      },
      "execution_count": 8,
      "outputs": []
    },
    {
      "cell_type": "code",
      "source": [
        "train_data.head()"
      ],
      "metadata": {
        "id": "ofJX1YqnTxJx",
        "colab": {
          "base_uri": "https://localhost:8080/",
          "height": 206
        },
        "outputId": "bcdfd62c-0351-478b-a109-6f5d1fbec7a0"
      },
      "execution_count": 9,
      "outputs": [
        {
          "output_type": "execute_result",
          "data": {
            "text/html": [
              "\n",
              "  <div id=\"df-4879bb4d-dc18-4ad3-8a6d-32b492e55ce0\">\n",
              "    <div class=\"colab-df-container\">\n",
              "      <div>\n",
              "<style scoped>\n",
              "    .dataframe tbody tr th:only-of-type {\n",
              "        vertical-align: middle;\n",
              "    }\n",
              "\n",
              "    .dataframe tbody tr th {\n",
              "        vertical-align: top;\n",
              "    }\n",
              "\n",
              "    .dataframe thead th {\n",
              "        text-align: right;\n",
              "    }\n",
              "</style>\n",
              "<table border=\"1\" class=\"dataframe\">\n",
              "  <thead>\n",
              "    <tr style=\"text-align: right;\">\n",
              "      <th></th>\n",
              "      <th>topic</th>\n",
              "      <th>headline</th>\n",
              "      <th>info</th>\n",
              "    </tr>\n",
              "  </thead>\n",
              "  <tbody>\n",
              "    <tr>\n",
              "      <th>0</th>\n",
              "      <td>sport</td>\n",
              "      <td>овечкин пожертвовать детский хоккейный школа а...</td>\n",
              "      <td>нападать вашингтон кэпиталзти александр овечки...</td>\n",
              "    </tr>\n",
              "    <tr>\n",
              "      <th>1</th>\n",
              "      <td>culture</td>\n",
              "      <td>рекордно дорогой статуя майя признать подделка</td>\n",
              "      <td>власть мексика объявить подделка статуя майя п...</td>\n",
              "    </tr>\n",
              "    <tr>\n",
              "      <th>2</th>\n",
              "      <td>science</td>\n",
              "      <td>samsung представить флагман защитить корпус</td>\n",
              "      <td>южнокорейский samsung анонсировать защитить ве...</td>\n",
              "    </tr>\n",
              "    <tr>\n",
              "      <th>3</th>\n",
              "      <td>sport</td>\n",
              "      <td>футболист спартак снять четырехматчевой дисква...</td>\n",
              "      <td>контрольный дисциплинарный комитет кдк рфс сня...</td>\n",
              "    </tr>\n",
              "    <tr>\n",
              "      <th>4</th>\n",
              "      <td>media</td>\n",
              "      <td>hopes fears объединиться the village</td>\n",
              "      <td>интернет издание hopes fears объявить свой сли...</td>\n",
              "    </tr>\n",
              "  </tbody>\n",
              "</table>\n",
              "</div>\n",
              "      <button class=\"colab-df-convert\" onclick=\"convertToInteractive('df-4879bb4d-dc18-4ad3-8a6d-32b492e55ce0')\"\n",
              "              title=\"Convert this dataframe to an interactive table.\"\n",
              "              style=\"display:none;\">\n",
              "        \n",
              "  <svg xmlns=\"http://www.w3.org/2000/svg\" height=\"24px\"viewBox=\"0 0 24 24\"\n",
              "       width=\"24px\">\n",
              "    <path d=\"M0 0h24v24H0V0z\" fill=\"none\"/>\n",
              "    <path d=\"M18.56 5.44l.94 2.06.94-2.06 2.06-.94-2.06-.94-.94-2.06-.94 2.06-2.06.94zm-11 1L8.5 8.5l.94-2.06 2.06-.94-2.06-.94L8.5 2.5l-.94 2.06-2.06.94zm10 10l.94 2.06.94-2.06 2.06-.94-2.06-.94-.94-2.06-.94 2.06-2.06.94z\"/><path d=\"M17.41 7.96l-1.37-1.37c-.4-.4-.92-.59-1.43-.59-.52 0-1.04.2-1.43.59L10.3 9.45l-7.72 7.72c-.78.78-.78 2.05 0 2.83L4 21.41c.39.39.9.59 1.41.59.51 0 1.02-.2 1.41-.59l7.78-7.78 2.81-2.81c.8-.78.8-2.07 0-2.86zM5.41 20L4 18.59l7.72-7.72 1.47 1.35L5.41 20z\"/>\n",
              "  </svg>\n",
              "      </button>\n",
              "      \n",
              "  <style>\n",
              "    .colab-df-container {\n",
              "      display:flex;\n",
              "      flex-wrap:wrap;\n",
              "      gap: 12px;\n",
              "    }\n",
              "\n",
              "    .colab-df-convert {\n",
              "      background-color: #E8F0FE;\n",
              "      border: none;\n",
              "      border-radius: 50%;\n",
              "      cursor: pointer;\n",
              "      display: none;\n",
              "      fill: #1967D2;\n",
              "      height: 32px;\n",
              "      padding: 0 0 0 0;\n",
              "      width: 32px;\n",
              "    }\n",
              "\n",
              "    .colab-df-convert:hover {\n",
              "      background-color: #E2EBFA;\n",
              "      box-shadow: 0px 1px 2px rgba(60, 64, 67, 0.3), 0px 1px 3px 1px rgba(60, 64, 67, 0.15);\n",
              "      fill: #174EA6;\n",
              "    }\n",
              "\n",
              "    [theme=dark] .colab-df-convert {\n",
              "      background-color: #3B4455;\n",
              "      fill: #D2E3FC;\n",
              "    }\n",
              "\n",
              "    [theme=dark] .colab-df-convert:hover {\n",
              "      background-color: #434B5C;\n",
              "      box-shadow: 0px 1px 3px 1px rgba(0, 0, 0, 0.15);\n",
              "      filter: drop-shadow(0px 1px 2px rgba(0, 0, 0, 0.3));\n",
              "      fill: #FFFFFF;\n",
              "    }\n",
              "  </style>\n",
              "\n",
              "      <script>\n",
              "        const buttonEl =\n",
              "          document.querySelector('#df-4879bb4d-dc18-4ad3-8a6d-32b492e55ce0 button.colab-df-convert');\n",
              "        buttonEl.style.display =\n",
              "          google.colab.kernel.accessAllowed ? 'block' : 'none';\n",
              "\n",
              "        async function convertToInteractive(key) {\n",
              "          const element = document.querySelector('#df-4879bb4d-dc18-4ad3-8a6d-32b492e55ce0');\n",
              "          const dataTable =\n",
              "            await google.colab.kernel.invokeFunction('convertToInteractive',\n",
              "                                                     [key], {});\n",
              "          if (!dataTable) return;\n",
              "\n",
              "          const docLinkHtml = 'Like what you see? Visit the ' +\n",
              "            '<a target=\"_blank\" href=https://colab.research.google.com/notebooks/data_table.ipynb>data table notebook</a>'\n",
              "            + ' to learn more about interactive tables.';\n",
              "          element.innerHTML = '';\n",
              "          dataTable['output_type'] = 'display_data';\n",
              "          await google.colab.output.renderOutput(dataTable, element);\n",
              "          const docLink = document.createElement('div');\n",
              "          docLink.innerHTML = docLinkHtml;\n",
              "          element.appendChild(docLink);\n",
              "        }\n",
              "      </script>\n",
              "    </div>\n",
              "  </div>\n",
              "  "
            ],
            "text/plain": [
              "     topic  ...                                               info\n",
              "0    sport  ...  нападать вашингтон кэпиталзти александр овечки...\n",
              "1  culture  ...  власть мексика объявить подделка статуя майя п...\n",
              "2  science  ...  южнокорейский samsung анонсировать защитить ве...\n",
              "3    sport  ...  контрольный дисциплинарный комитет кдк рфс сня...\n",
              "4    media  ...  интернет издание hopes fears объявить свой сли...\n",
              "\n",
              "[5 rows x 3 columns]"
            ]
          },
          "metadata": {},
          "execution_count": 9
        }
      ]
    },
    {
      "cell_type": "code",
      "source": [
        "for i in range(len(test_data)):\n",
        "  test_data[\"headline\"][i] = text_preprocessing(test_data[\"headline\"][i])\n",
        "  test_data[\"info\"][i] = text_preprocessing(test_data[\"info\"][i])"
      ],
      "metadata": {
        "id": "wZ_pvt00UBi8"
      },
      "execution_count": 10,
      "outputs": []
    },
    {
      "cell_type": "code",
      "source": [
        "# train_data = pd.read_csv(\"/content/drive/MyDrive/news/preprocessed_train.txt\")\n",
        "# test_data = pd.read_csv(\"/content/drive/MyDrive/news/preprocessed_test.txt\")"
      ],
      "metadata": {
        "id": "g-DKKy2wJfOd"
      },
      "execution_count": 11,
      "outputs": []
    },
    {
      "cell_type": "code",
      "source": [
        "label_encoder = LabelEncoder()\n",
        "train_data['target'] = label_encoder.fit_transform(train_data['topic'])\n",
        "test_data['target'] = label_encoder.transform(test_data['topic'])"
      ],
      "metadata": {
        "id": "qgMaPLADaNTd"
      },
      "execution_count": 12,
      "outputs": []
    },
    {
      "cell_type": "code",
      "source": [
        "# train_data.to_csv( \"/content/drive/MyDrive/news/preprocessed_train.txt\", index=False, encoding='utf-8-sig')\n",
        "# test_data.to_csv( \"/content/drive/MyDrive/news/preprocessed_test.txt\", index=False, encoding='utf-8-sig')"
      ],
      "metadata": {
        "id": "udsnQrvFZ4fA"
      },
      "execution_count": 13,
      "outputs": []
    },
    {
      "cell_type": "markdown",
      "source": [
        ""
      ],
      "metadata": {
        "id": "WFv09c23rp42"
      }
    },
    {
      "cell_type": "markdown",
      "source": [
        "###TASK 2"
      ],
      "metadata": {
        "id": "tA948ugYYNbc"
      }
    },
    {
      "cell_type": "code",
      "source": [
        "from gensim.models import Word2Vec"
      ],
      "metadata": {
        "id": "D7AfVigcYPeV"
      },
      "execution_count": 14,
      "outputs": []
    },
    {
      "cell_type": "code",
      "source": [
        "words = [text.split() for text in train_data[\"info\"]]\n",
        "w2v = Word2Vec(sentences=words, min_count=0)"
      ],
      "metadata": {
        "id": "4Mhyz4fgYYMl"
      },
      "execution_count": 15,
      "outputs": []
    },
    {
      "cell_type": "code",
      "source": [
        "w2v.wv.most_similar('интернет', topn=10)  "
      ],
      "metadata": {
        "id": "vDFn7Y5UZFF_",
        "colab": {
          "base_uri": "https://localhost:8080/"
        },
        "outputId": "0c5d8a16-d2d2-4b15-a2ad-6f2147e7ee04"
      },
      "execution_count": 16,
      "outputs": [
        {
          "output_type": "execute_result",
          "data": {
            "text/plain": [
              "[('соцсеть', 0.8297642469406128),\n",
              " ('доступ', 0.8284081816673279),\n",
              " ('провайдер', 0.8271694183349609),\n",
              " ('онлайн', 0.8270543217658997),\n",
              " ('поисковик', 0.826681911945343),\n",
              " ('запрос', 0.8212244510650635),\n",
              " ('яндекс', 0.8211380243301392),\n",
              " ('ресурс', 0.8202977180480957),\n",
              " ('реклама', 0.8144828081130981),\n",
              " ('контент', 0.8100818395614624)]"
            ]
          },
          "metadata": {},
          "execution_count": 16
        }
      ]
    },
    {
      "cell_type": "markdown",
      "source": [
        "###TASK 3"
      ],
      "metadata": {
        "id": "N6aAdBfBacfE"
      }
    },
    {
      "cell_type": "code",
      "source": [
        "from sklearn.svm import SVC\n",
        "from sklearn.metrics import accuracy_score\n",
        "from sklearn.model_selection import GridSearchCV\n",
        "from sklearn.linear_model import LogisticRegression\n",
        "from sklearn.feature_extraction.text import TfidfVectorizer"
      ],
      "metadata": {
        "id": "xYF2t5PBxkG_"
      },
      "execution_count": 17,
      "outputs": []
    },
    {
      "cell_type": "code",
      "source": [
        "vectorizer = TfidfVectorizer(min_df = 10, max_df = 1., ngram_range = (1,2), max_features = 1000)\n",
        "train_text = vectorizer.fit_transform(train_data[\"info\"]).toarray()\n",
        "test_text = vectorizer.transform(test_data[\"info\"]).toarray()\n",
        "train_labels = np.array(train_data['target'])\n",
        "test_labels = np.array(test_data['target'])"
      ],
      "metadata": {
        "id": "xV68vg_R9Ipn"
      },
      "execution_count": 18,
      "outputs": []
    },
    {
      "cell_type": "code",
      "source": [
        "param_grid = {'C': [1, 10, 100], 'gamma': [0.01, 0.1, 1],'kernel': ['linear', 'sigmoid']}\n",
        "model = SVC()\n",
        "clf = GridSearchCV(model, param_grid, cv=2, verbose=3)\n",
        "clf.fit(train_text, train_labels)"
      ],
      "metadata": {
        "id": "YNUBB6WVjKAA",
        "colab": {
          "base_uri": "https://localhost:8080/"
        },
        "outputId": "511201d6-8a39-4284-f5b8-278794f4422a"
      },
      "execution_count": 19,
      "outputs": [
        {
          "output_type": "stream",
          "name": "stdout",
          "text": [
            "Fitting 2 folds for each of 18 candidates, totalling 36 fits\n",
            "[CV 1/2] END ....C=1, gamma=0.01, kernel=linear;, score=0.836 total time=  20.1s\n",
            "[CV 2/2] END ....C=1, gamma=0.01, kernel=linear;, score=0.826 total time=  19.4s\n",
            "[CV 1/2] END ...C=1, gamma=0.01, kernel=sigmoid;, score=0.514 total time= 1.1min\n",
            "[CV 2/2] END ...C=1, gamma=0.01, kernel=sigmoid;, score=0.531 total time= 1.1min\n",
            "[CV 1/2] END .....C=1, gamma=0.1, kernel=linear;, score=0.836 total time=  20.1s\n",
            "[CV 2/2] END .....C=1, gamma=0.1, kernel=linear;, score=0.826 total time=  20.2s\n",
            "[CV 1/2] END ....C=1, gamma=0.1, kernel=sigmoid;, score=0.805 total time=  39.4s\n",
            "[CV 2/2] END ....C=1, gamma=0.1, kernel=sigmoid;, score=0.800 total time=  37.7s\n",
            "[CV 1/2] END .......C=1, gamma=1, kernel=linear;, score=0.836 total time=  19.4s\n",
            "[CV 2/2] END .......C=1, gamma=1, kernel=linear;, score=0.826 total time=  19.7s\n",
            "[CV 1/2] END ......C=1, gamma=1, kernel=sigmoid;, score=0.831 total time=  19.1s\n",
            "[CV 2/2] END ......C=1, gamma=1, kernel=sigmoid;, score=0.827 total time=  19.1s\n",
            "[CV 1/2] END ...C=10, gamma=0.01, kernel=linear;, score=0.812 total time=  18.1s\n",
            "[CV 2/2] END ...C=10, gamma=0.01, kernel=linear;, score=0.807 total time=  18.5s\n",
            "[CV 1/2] END ..C=10, gamma=0.01, kernel=sigmoid;, score=0.805 total time=  38.5s\n",
            "[CV 2/2] END ..C=10, gamma=0.01, kernel=sigmoid;, score=0.800 total time=  38.2s\n",
            "[CV 1/2] END ....C=10, gamma=0.1, kernel=linear;, score=0.812 total time=  17.9s\n",
            "[CV 2/2] END ....C=10, gamma=0.1, kernel=linear;, score=0.807 total time=  18.6s\n",
            "[CV 1/2] END ...C=10, gamma=0.1, kernel=sigmoid;, score=0.836 total time=  21.2s\n",
            "[CV 2/2] END ...C=10, gamma=0.1, kernel=sigmoid;, score=0.826 total time=  20.7s\n",
            "[CV 1/2] END ......C=10, gamma=1, kernel=linear;, score=0.812 total time=  17.5s\n",
            "[CV 2/2] END ......C=10, gamma=1, kernel=linear;, score=0.807 total time=  18.5s\n",
            "[CV 1/2] END .....C=10, gamma=1, kernel=sigmoid;, score=0.801 total time=  15.3s\n",
            "[CV 2/2] END .....C=10, gamma=1, kernel=sigmoid;, score=0.799 total time=  16.0s\n",
            "[CV 1/2] END ..C=100, gamma=0.01, kernel=linear;, score=0.806 total time=  19.5s\n",
            "[CV 2/2] END ..C=100, gamma=0.01, kernel=linear;, score=0.800 total time=  20.8s\n",
            "[CV 1/2] END .C=100, gamma=0.01, kernel=sigmoid;, score=0.836 total time=  21.7s\n",
            "[CV 2/2] END .C=100, gamma=0.01, kernel=sigmoid;, score=0.826 total time=  21.4s\n",
            "[CV 1/2] END ...C=100, gamma=0.1, kernel=linear;, score=0.806 total time=  18.1s\n",
            "[CV 2/2] END ...C=100, gamma=0.1, kernel=linear;, score=0.800 total time=  18.6s\n",
            "[CV 1/2] END ..C=100, gamma=0.1, kernel=sigmoid;, score=0.813 total time=  19.3s\n",
            "[CV 2/2] END ..C=100, gamma=0.1, kernel=sigmoid;, score=0.805 total time=  20.8s\n",
            "[CV 1/2] END .....C=100, gamma=1, kernel=linear;, score=0.806 total time=  18.1s\n",
            "[CV 2/2] END .....C=100, gamma=1, kernel=linear;, score=0.800 total time=  18.8s\n",
            "[CV 1/2] END ....C=100, gamma=1, kernel=sigmoid;, score=0.772 total time=  15.4s\n",
            "[CV 2/2] END ....C=100, gamma=1, kernel=sigmoid;, score=0.764 total time=  15.5s\n"
          ]
        },
        {
          "output_type": "execute_result",
          "data": {
            "text/plain": [
              "GridSearchCV(cv=2, estimator=SVC(),\n",
              "             param_grid={'C': [1, 10, 100], 'gamma': [0.01, 0.1, 1],\n",
              "                         'kernel': ['linear', 'sigmoid']},\n",
              "             verbose=3)"
            ]
          },
          "metadata": {},
          "execution_count": 19
        }
      ]
    },
    {
      "cell_type": "code",
      "source": [
        "pred = clf.predict(test_text)\n",
        "print('SVC accuracy: ', accuracy_score(pred, test_labels))"
      ],
      "metadata": {
        "colab": {
          "base_uri": "https://localhost:8080/"
        },
        "id": "7js9EkrbBrGR",
        "outputId": "d0a22201-25a3-438f-d062-839e6f30d039"
      },
      "execution_count": 20,
      "outputs": [
        {
          "output_type": "stream",
          "name": "stdout",
          "text": [
            "SVC accuracy:  0.8523333333333334\n"
          ]
        }
      ]
    },
    {
      "cell_type": "code",
      "source": [
        "param_grid = {'solver':['liblinear','saga'], 'penalty': ['l1', 'l2']}\n",
        "model = LogisticRegression()\n",
        "clf = GridSearchCV(model, param_grid, cv=2, verbose=3)\n",
        "clf.fit(train_text, train_labels)"
      ],
      "metadata": {
        "colab": {
          "base_uri": "https://localhost:8080/"
        },
        "id": "4QM6zz5MA5TA",
        "outputId": "7ed33921-7d5f-4b54-f39f-9a6bc3826fb6"
      },
      "execution_count": 21,
      "outputs": [
        {
          "output_type": "stream",
          "name": "stdout",
          "text": [
            "Fitting 2 folds for each of 4 candidates, totalling 8 fits\n",
            "[CV 1/2] END ......penalty=l1, solver=liblinear;, score=0.825 total time=   0.8s\n",
            "[CV 2/2] END ......penalty=l1, solver=liblinear;, score=0.812 total time=   0.9s\n"
          ]
        },
        {
          "output_type": "stream",
          "name": "stderr",
          "text": [
            "/usr/local/lib/python3.7/dist-packages/sklearn/linear_model/_sag.py:354: ConvergenceWarning: The max_iter was reached which means the coef_ did not converge\n",
            "  ConvergenceWarning,\n"
          ]
        },
        {
          "output_type": "stream",
          "name": "stdout",
          "text": [
            "[CV 1/2] END ...........penalty=l1, solver=saga;, score=0.821 total time= 1.0min\n"
          ]
        },
        {
          "output_type": "stream",
          "name": "stderr",
          "text": [
            "/usr/local/lib/python3.7/dist-packages/sklearn/linear_model/_sag.py:354: ConvergenceWarning: The max_iter was reached which means the coef_ did not converge\n",
            "  ConvergenceWarning,\n"
          ]
        },
        {
          "output_type": "stream",
          "name": "stdout",
          "text": [
            "[CV 2/2] END ...........penalty=l1, solver=saga;, score=0.814 total time= 1.0min\n",
            "[CV 1/2] END ......penalty=l2, solver=liblinear;, score=0.830 total time=   0.7s\n",
            "[CV 2/2] END ......penalty=l2, solver=liblinear;, score=0.825 total time=   0.7s\n",
            "[CV 1/2] END ...........penalty=l2, solver=saga;, score=0.832 total time=   9.9s\n",
            "[CV 2/2] END ...........penalty=l2, solver=saga;, score=0.827 total time=   9.1s\n"
          ]
        },
        {
          "output_type": "execute_result",
          "data": {
            "text/plain": [
              "GridSearchCV(cv=2, estimator=LogisticRegression(),\n",
              "             param_grid={'penalty': ['l1', 'l2'],\n",
              "                         'solver': ['liblinear', 'saga']},\n",
              "             verbose=3)"
            ]
          },
          "metadata": {},
          "execution_count": 21
        }
      ]
    },
    {
      "cell_type": "code",
      "source": [
        "pred = clf.predict(test_text)\n",
        "print('Logistic Regression accuracy: ', accuracy_score(pred, test_labels))"
      ],
      "metadata": {
        "colab": {
          "base_uri": "https://localhost:8080/"
        },
        "id": "UxzX7a7rB-PM",
        "outputId": "a1ef9932-b2f4-4a59-b640-1693497a0472"
      },
      "execution_count": 22,
      "outputs": [
        {
          "output_type": "stream",
          "name": "stdout",
          "text": [
            "Logistic Regression accuracy:  0.8526666666666667\n"
          ]
        }
      ]
    }
  ],
  "metadata": {
    "kernelspec": {
      "display_name": "Python 3 (ipykernel)",
      "language": "python",
      "name": "python3"
    },
    "language_info": {
      "codemirror_mode": {
        "name": "ipython",
        "version": 3
      },
      "file_extension": ".py",
      "mimetype": "text/x-python",
      "name": "python",
      "nbconvert_exporter": "python",
      "pygments_lexer": "ipython3",
      "version": "3.7.10"
    },
    "colab": {
      "name": "Task_6.ipynb",
      "provenance": [],
      "collapsed_sections": []
    },
    "accelerator": "GPU"
  },
  "nbformat": 4,
  "nbformat_minor": 0
}